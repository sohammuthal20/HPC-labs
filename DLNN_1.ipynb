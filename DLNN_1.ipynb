{
  "cells": [
    {
      "cell_type": "code",
      "execution_count": null,
      "metadata": {
        "id": "QduixtHiQjkV"
      },
      "outputs": [],
      "source": [
        "import tensorflow as tf"
      ]
    },
    {
      "cell_type": "code",
      "execution_count": null,
      "metadata": {
        "id": "JJULzKzkQnzb"
      },
      "outputs": [],
      "source": [
        "import keras"
      ]
    },
    {
      "cell_type": "code",
      "execution_count": null,
      "metadata": {
        "colab": {
          "base_uri": "https://localhost:8080/"
        },
        "id": "lfRYuRqfQw_l",
        "outputId": "6c62600c-0c84-4988-f521-d0d02fba31d7"
      },
      "outputs": [
        {
          "name": "stdout",
          "output_type": "stream",
          "text": [
            "2.15.0\n"
          ]
        }
      ],
      "source": [
        "print(tf.__version__)"
      ]
    },
    {
      "cell_type": "code",
      "execution_count": null,
      "metadata": {
        "colab": {
          "base_uri": "https://localhost:8080/"
        },
        "id": "gNSeljRbQ9Wk",
        "outputId": "26c2acc6-f4a5-4b4c-ee8a-a2009b8169e9"
      },
      "outputs": [
        {
          "name": "stdout",
          "output_type": "stream",
          "text": [
            "2.15.0\n"
          ]
        }
      ],
      "source": [
        "print(keras.__version__)"
      ]
    },
    {
      "cell_type": "code",
      "execution_count": null,
      "metadata": {
        "id": "M1Sp2BA6L8fE"
      },
      "outputs": [],
      "source": [
        "!pip install -q kaggle"
      ]
    },
    {
      "cell_type": "code",
      "execution_count": null,
      "metadata": {
        "colab": {
          "base_uri": "https://localhost:8080/",
          "height": 90
        },
        "id": "DyXDEo8XWWxH",
        "outputId": "517726e8-f2c6-46c4-d7de-ff64297fbb2b"
      },
      "outputs": [
        {
          "data": {
            "text/html": [
              "\n",
              "     <input type=\"file\" id=\"files-2345ff02-38ee-47b2-8730-b9a5635ac405\" name=\"files[]\" multiple disabled\n",
              "        style=\"border:none\" />\n",
              "     <output id=\"result-2345ff02-38ee-47b2-8730-b9a5635ac405\">\n",
              "      Upload widget is only available when the cell has been executed in the\n",
              "      current browser session. Please rerun this cell to enable.\n",
              "      </output>\n",
              "      <script>// Copyright 2017 Google LLC\n",
              "//\n",
              "// Licensed under the Apache License, Version 2.0 (the \"License\");\n",
              "// you may not use this file except in compliance with the License.\n",
              "// You may obtain a copy of the License at\n",
              "//\n",
              "//      http://www.apache.org/licenses/LICENSE-2.0\n",
              "//\n",
              "// Unless required by applicable law or agreed to in writing, software\n",
              "// distributed under the License is distributed on an \"AS IS\" BASIS,\n",
              "// WITHOUT WARRANTIES OR CONDITIONS OF ANY KIND, either express or implied.\n",
              "// See the License for the specific language governing permissions and\n",
              "// limitations under the License.\n",
              "\n",
              "/**\n",
              " * @fileoverview Helpers for google.colab Python module.\n",
              " */\n",
              "(function(scope) {\n",
              "function span(text, styleAttributes = {}) {\n",
              "  const element = document.createElement('span');\n",
              "  element.textContent = text;\n",
              "  for (const key of Object.keys(styleAttributes)) {\n",
              "    element.style[key] = styleAttributes[key];\n",
              "  }\n",
              "  return element;\n",
              "}\n",
              "\n",
              "// Max number of bytes which will be uploaded at a time.\n",
              "const MAX_PAYLOAD_SIZE = 100 * 1024;\n",
              "\n",
              "function _uploadFiles(inputId, outputId) {\n",
              "  const steps = uploadFilesStep(inputId, outputId);\n",
              "  const outputElement = document.getElementById(outputId);\n",
              "  // Cache steps on the outputElement to make it available for the next call\n",
              "  // to uploadFilesContinue from Python.\n",
              "  outputElement.steps = steps;\n",
              "\n",
              "  return _uploadFilesContinue(outputId);\n",
              "}\n",
              "\n",
              "// This is roughly an async generator (not supported in the browser yet),\n",
              "// where there are multiple asynchronous steps and the Python side is going\n",
              "// to poll for completion of each step.\n",
              "// This uses a Promise to block the python side on completion of each step,\n",
              "// then passes the result of the previous step as the input to the next step.\n",
              "function _uploadFilesContinue(outputId) {\n",
              "  const outputElement = document.getElementById(outputId);\n",
              "  const steps = outputElement.steps;\n",
              "\n",
              "  const next = steps.next(outputElement.lastPromiseValue);\n",
              "  return Promise.resolve(next.value.promise).then((value) => {\n",
              "    // Cache the last promise value to make it available to the next\n",
              "    // step of the generator.\n",
              "    outputElement.lastPromiseValue = value;\n",
              "    return next.value.response;\n",
              "  });\n",
              "}\n",
              "\n",
              "/**\n",
              " * Generator function which is called between each async step of the upload\n",
              " * process.\n",
              " * @param {string} inputId Element ID of the input file picker element.\n",
              " * @param {string} outputId Element ID of the output display.\n",
              " * @return {!Iterable<!Object>} Iterable of next steps.\n",
              " */\n",
              "function* uploadFilesStep(inputId, outputId) {\n",
              "  const inputElement = document.getElementById(inputId);\n",
              "  inputElement.disabled = false;\n",
              "\n",
              "  const outputElement = document.getElementById(outputId);\n",
              "  outputElement.innerHTML = '';\n",
              "\n",
              "  const pickedPromise = new Promise((resolve) => {\n",
              "    inputElement.addEventListener('change', (e) => {\n",
              "      resolve(e.target.files);\n",
              "    });\n",
              "  });\n",
              "\n",
              "  const cancel = document.createElement('button');\n",
              "  inputElement.parentElement.appendChild(cancel);\n",
              "  cancel.textContent = 'Cancel upload';\n",
              "  const cancelPromise = new Promise((resolve) => {\n",
              "    cancel.onclick = () => {\n",
              "      resolve(null);\n",
              "    };\n",
              "  });\n",
              "\n",
              "  // Wait for the user to pick the files.\n",
              "  const files = yield {\n",
              "    promise: Promise.race([pickedPromise, cancelPromise]),\n",
              "    response: {\n",
              "      action: 'starting',\n",
              "    }\n",
              "  };\n",
              "\n",
              "  cancel.remove();\n",
              "\n",
              "  // Disable the input element since further picks are not allowed.\n",
              "  inputElement.disabled = true;\n",
              "\n",
              "  if (!files) {\n",
              "    return {\n",
              "      response: {\n",
              "        action: 'complete',\n",
              "      }\n",
              "    };\n",
              "  }\n",
              "\n",
              "  for (const file of files) {\n",
              "    const li = document.createElement('li');\n",
              "    li.append(span(file.name, {fontWeight: 'bold'}));\n",
              "    li.append(span(\n",
              "        `(${file.type || 'n/a'}) - ${file.size} bytes, ` +\n",
              "        `last modified: ${\n",
              "            file.lastModifiedDate ? file.lastModifiedDate.toLocaleDateString() :\n",
              "                                    'n/a'} - `));\n",
              "    const percent = span('0% done');\n",
              "    li.appendChild(percent);\n",
              "\n",
              "    outputElement.appendChild(li);\n",
              "\n",
              "    const fileDataPromise = new Promise((resolve) => {\n",
              "      const reader = new FileReader();\n",
              "      reader.onload = (e) => {\n",
              "        resolve(e.target.result);\n",
              "      };\n",
              "      reader.readAsArrayBuffer(file);\n",
              "    });\n",
              "    // Wait for the data to be ready.\n",
              "    let fileData = yield {\n",
              "      promise: fileDataPromise,\n",
              "      response: {\n",
              "        action: 'continue',\n",
              "      }\n",
              "    };\n",
              "\n",
              "    // Use a chunked sending to avoid message size limits. See b/62115660.\n",
              "    let position = 0;\n",
              "    do {\n",
              "      const length = Math.min(fileData.byteLength - position, MAX_PAYLOAD_SIZE);\n",
              "      const chunk = new Uint8Array(fileData, position, length);\n",
              "      position += length;\n",
              "\n",
              "      const base64 = btoa(String.fromCharCode.apply(null, chunk));\n",
              "      yield {\n",
              "        response: {\n",
              "          action: 'append',\n",
              "          file: file.name,\n",
              "          data: base64,\n",
              "        },\n",
              "      };\n",
              "\n",
              "      let percentDone = fileData.byteLength === 0 ?\n",
              "          100 :\n",
              "          Math.round((position / fileData.byteLength) * 100);\n",
              "      percent.textContent = `${percentDone}% done`;\n",
              "\n",
              "    } while (position < fileData.byteLength);\n",
              "  }\n",
              "\n",
              "  // All done.\n",
              "  yield {\n",
              "    response: {\n",
              "      action: 'complete',\n",
              "    }\n",
              "  };\n",
              "}\n",
              "\n",
              "scope.google = scope.google || {};\n",
              "scope.google.colab = scope.google.colab || {};\n",
              "scope.google.colab._files = {\n",
              "  _uploadFiles,\n",
              "  _uploadFilesContinue,\n",
              "};\n",
              "})(self);\n",
              "</script> "
            ],
            "text/plain": [
              "<IPython.core.display.HTML object>"
            ]
          },
          "metadata": {},
          "output_type": "display_data"
        },
        {
          "name": "stdout",
          "output_type": "stream",
          "text": [
            "Saving kaggle.json to kaggle.json\n"
          ]
        },
        {
          "data": {
            "text/plain": [
              "{'kaggle.json': b'{\"username\":\"manavbillimoria\",\"key\":\"ca35686d162b044722c5340d352da96f\"}'}"
            ]
          },
          "execution_count": 11,
          "metadata": {},
          "output_type": "execute_result"
        }
      ],
      "source": [
        "from google.colab import files\n",
        "files.upload()"
      ]
    },
    {
      "cell_type": "code",
      "execution_count": null,
      "metadata": {
        "colab": {
          "base_uri": "https://localhost:8080/"
        },
        "id": "cA9IgM_qWq6O",
        "outputId": "434470c1-e6c9-4f41-b90d-b34e0fb1d95c"
      },
      "outputs": [
        {
          "name": "stdout",
          "output_type": "stream",
          "text": [
            "kaggle.json\n"
          ]
        }
      ],
      "source": [
        "!mkdir -p ~/.kaggle\n",
        "!cp kaggle.json ~/.kaggle/\n",
        "!chmod 600 ~/.kaggle/kaggle.json\n",
        "!ls ~/.kaggle"
      ]
    },
    {
      "cell_type": "code",
      "execution_count": null,
      "metadata": {
        "colab": {
          "base_uri": "https://localhost:8080/"
        },
        "id": "lOe4FyQkWq9y",
        "outputId": "b9261671-851c-4b79-8753-3da4587bc51f"
      },
      "outputs": [
        {
          "name": "stdout",
          "output_type": "stream",
          "text": [
            "ref                                                         title                                                size  lastUpdated          downloadCount  voteCount  usabilityRating  \n",
            "----------------------------------------------------------  --------------------------------------------------  -----  -------------------  -------------  ---------  ---------------  \n",
            "rabieelkharoua/students-performance-dataset                 📚 Students Performance Dataset 📚                     66KB  2024-06-12 23:09:20          19832        436  1.0              \n",
            "nelgiriyewithana/most-streamed-spotify-songs-2024           Most Streamed Spotify Songs 2024                    496KB  2024-06-15 18:50:51          14805        316  1.0              \n",
            "ihelon/coffee-sales                                         Coffee Sales                                         11KB  2024-07-18 10:06:43           5892         98  1.0              \n",
            "abdullahshf/neet-ug-2024-results-all-india                  NEET UG 2024 Results - All India                     12MB  2024-07-21 16:30:14            505         25  1.0              \n",
            "priyamchoksi/100000-diabetes-clinical-dataset               Comprehensive Diabetes Clinical Dataset(100k rows)  896KB  2024-07-20 15:11:02            534         23  1.0              \n",
            "humairmunir/lung-cancer-risk-dataset                        Lung Cancer Dataset                                  21KB  2024-07-17 14:25:57            780         28  1.0              \n",
            "adarshde/electric-vehicle-population-dataset                Electric Vehicle Population DataSet                   6MB  2024-07-17 17:17:38           1612         32  1.0              \n",
            "priyamchoksi/adult-census-income-dataset                    Adult Census Income Dataset                         450KB  2024-07-07 17:01:37            694         30  1.0              \n",
            "fahmidachowdhury/e-commerce-sales-analysis                  📈 E-Commerce Sales Analysis                          35KB  2024-07-04 20:02:23           2817         51  0.9411765        \n",
            "dataanalyst001/world-literacy-rate-by-country               World Literacy Rate by Country                        2KB  2024-07-15 08:28:28           1030         24  1.0              \n",
            "utsavdey1410/food-nutrition-dataset                         Food Nutrition Dataset                              694KB  2024-06-29 19:42:01           3371         88  1.0              \n",
            "ivansher/nasa-nearest-earth-objects-1910-2024               NASA | Nearest Earth Objects (1910-2024)             13MB  2024-07-18 13:17:11            772         28  1.0              \n",
            "harinkl/death-cause-of-people-in-india-from-2009-2020       Death Cause of People in INDIA from 2009 - 2020       3MB  2024-07-16 16:01:08            963         22  1.0              \n",
            "dataanalyst001/world-population-growth-rate-by-cities-2024  World population growth rate by cities 2024          16KB  2024-07-07 09:04:40            414         17  1.0              \n",
            "adityabhaumik/ipl-2024-matches                              IPL 2024 Matches                                      3KB  2024-07-10 18:18:03            743         22  1.0              \n",
            "suchintikasarkar/sentiment-analysis-for-mental-health       Sentiment Analysis for Mental Health                 11MB  2024-07-05 13:58:31           1468         44  1.0              \n",
            "preethamgouda/campaign-data                                 campaign_data                                         3MB  2024-07-19 07:34:22            319         31  1.0              \n",
            "stacknishant/nse-stock-historical-price-data                NSE Stock Historical price data                      20MB  2024-07-11 10:58:10           1509         29  1.0              \n",
            "zahrayazdani81/carsdataset                                  CarsDataset                                           4KB  2024-07-01 16:25:36           1315         22  0.7058824        \n",
            "krishd123/uefa-euro-2024-records                            ⚽UEFA Euro 2024 Records🏆                              5KB  2024-07-17 04:33:13            596         28  1.0              \n"
          ]
        }
      ],
      "source": [
        "!kaggle datasets list"
      ]
    },
    {
      "cell_type": "code",
      "execution_count": null,
      "metadata": {
        "colab": {
          "base_uri": "https://localhost:8080/"
        },
        "id": "T2EBcDi6XlBs",
        "outputId": "a077ab7e-ec5e-4c41-8a7a-6e5f687ae301"
      },
      "outputs": [
        {
          "name": "stdout",
          "output_type": "stream",
          "text": [
            "Dataset URL: https://www.kaggle.com/datasets/jayanthchukka/diabetes-dataset-for-beginers\n",
            "License(s): unknown\n",
            "Downloading diabetes-dataset-for-beginers.zip to /content\n",
            "  0% 0.00/8.91k [00:00<?, ?B/s]\n",
            "100% 8.91k/8.91k [00:00<00:00, 13.3MB/s]\n"
          ]
        }
      ],
      "source": [
        "!kaggle datasets download -d jayanthchukka/diabetes-dataset-for-beginers --force\n"
      ]
    },
    {
      "cell_type": "code",
      "execution_count": null,
      "metadata": {
        "colab": {
          "base_uri": "https://localhost:8080/"
        },
        "id": "kdh_P9AeYvIL",
        "outputId": "1d0d536c-c5bb-4cfa-8cb7-a9c5cd7d945c"
      },
      "outputs": [
        {
          "name": "stdout",
          "output_type": "stream",
          "text": [
            "Archive:  diabetes-dataset-for-beginers.zip\n",
            "  inflating: diabetes_dataset/diabetes.csv  \n"
          ]
        }
      ],
      "source": [
        "!unzip diabetes-dataset-for-beginers.zip -d diabetes_dataset"
      ]
    },
    {
      "cell_type": "code",
      "execution_count": null,
      "metadata": {
        "colab": {
          "base_uri": "https://localhost:8080/"
        },
        "id": "N3br-nayZUXV",
        "outputId": "cdd635fa-7f46-4bef-e88a-3724d42236c1"
      },
      "outputs": [
        {
          "name": "stdout",
          "output_type": "stream",
          "text": [
            "Collecting opendatasets\n",
            "  Downloading opendatasets-0.1.22-py3-none-any.whl (15 kB)\n",
            "Requirement already satisfied: tqdm in /usr/local/lib/python3.10/dist-packages (from opendatasets) (4.66.4)\n",
            "Requirement already satisfied: kaggle in /usr/local/lib/python3.10/dist-packages (from opendatasets) (1.6.14)\n",
            "Requirement already satisfied: click in /usr/local/lib/python3.10/dist-packages (from opendatasets) (8.1.7)\n",
            "Requirement already satisfied: six>=1.10 in /usr/local/lib/python3.10/dist-packages (from kaggle->opendatasets) (1.16.0)\n",
            "Requirement already satisfied: certifi>=2023.7.22 in /usr/local/lib/python3.10/dist-packages (from kaggle->opendatasets) (2024.7.4)\n",
            "Requirement already satisfied: python-dateutil in /usr/local/lib/python3.10/dist-packages (from kaggle->opendatasets) (2.8.2)\n",
            "Requirement already satisfied: requests in /usr/local/lib/python3.10/dist-packages (from kaggle->opendatasets) (2.31.0)\n",
            "Requirement already satisfied: python-slugify in /usr/local/lib/python3.10/dist-packages (from kaggle->opendatasets) (8.0.4)\n",
            "Requirement already satisfied: urllib3 in /usr/local/lib/python3.10/dist-packages (from kaggle->opendatasets) (2.0.7)\n",
            "Requirement already satisfied: bleach in /usr/local/lib/python3.10/dist-packages (from kaggle->opendatasets) (6.1.0)\n",
            "Requirement already satisfied: webencodings in /usr/local/lib/python3.10/dist-packages (from bleach->kaggle->opendatasets) (0.5.1)\n",
            "Requirement already satisfied: text-unidecode>=1.3 in /usr/local/lib/python3.10/dist-packages (from python-slugify->kaggle->opendatasets) (1.3)\n",
            "Requirement already satisfied: charset-normalizer<4,>=2 in /usr/local/lib/python3.10/dist-packages (from requests->kaggle->opendatasets) (3.3.2)\n",
            "Requirement already satisfied: idna<4,>=2.5 in /usr/local/lib/python3.10/dist-packages (from requests->kaggle->opendatasets) (3.7)\n",
            "Installing collected packages: opendatasets\n",
            "Successfully installed opendatasets-0.1.22\n"
          ]
        }
      ],
      "source": [
        "!pip install opendatasets"
      ]
    },
    {
      "cell_type": "code",
      "execution_count": null,
      "metadata": {
        "colab": {
          "base_uri": "https://localhost:8080/"
        },
        "id": "qx4zpGboZ48w",
        "outputId": "2aa18e9f-5d2e-4bdd-fcb0-3929c1a0c7d9"
      },
      "outputs": [
        {
          "name": "stdout",
          "output_type": "stream",
          "text": [
            "Requirement already satisfied: pandas in /usr/local/lib/python3.10/dist-packages (2.0.3)\n",
            "Requirement already satisfied: python-dateutil>=2.8.2 in /usr/local/lib/python3.10/dist-packages (from pandas) (2.8.2)\n",
            "Requirement already satisfied: pytz>=2020.1 in /usr/local/lib/python3.10/dist-packages (from pandas) (2023.4)\n",
            "Requirement already satisfied: tzdata>=2022.1 in /usr/local/lib/python3.10/dist-packages (from pandas) (2024.1)\n",
            "Requirement already satisfied: numpy>=1.21.0 in /usr/local/lib/python3.10/dist-packages (from pandas) (1.25.2)\n",
            "Requirement already satisfied: six>=1.5 in /usr/local/lib/python3.10/dist-packages (from python-dateutil>=2.8.2->pandas) (1.16.0)\n"
          ]
        }
      ],
      "source": [
        "!pip install pandas"
      ]
    },
    {
      "cell_type": "code",
      "execution_count": null,
      "metadata": {
        "id": "NFJhwikVZ9K6"
      },
      "outputs": [],
      "source": [
        "import opendatasets as od\n",
        "import pandas as pd"
      ]
    },
    {
      "cell_type": "code",
      "execution_count": null,
      "metadata": {
        "colab": {
          "base_uri": "https://localhost:8080/"
        },
        "id": "W9eZwdqhb-No",
        "outputId": "667e040a-0af7-40f7-e23b-9a0ee560ddc4"
      },
      "outputs": [
        {
          "name": "stdout",
          "output_type": "stream",
          "text": [
            "Dataset URL: https://www.kaggle.com/datasets/prathamtripathi/drug-classification\n",
            "Downloading drug-classification.zip to ./drug-classification\n"
          ]
        },
        {
          "name": "stderr",
          "output_type": "stream",
          "text": [
            "100%|██████████| 1.68k/1.68k [00:00<00:00, 1.82MB/s]"
          ]
        },
        {
          "name": "stdout",
          "output_type": "stream",
          "text": [
            "\n"
          ]
        },
        {
          "name": "stderr",
          "output_type": "stream",
          "text": [
            "\n"
          ]
        }
      ],
      "source": [
        "od.download(\"https://www.kaggle.com/datasets/prathamtripathi/drug-classification\")"
      ]
    },
    {
      "cell_type": "code",
      "execution_count": null,
      "metadata": {
        "id": "1gYkvCMgaRpH"
      },
      "outputs": [],
      "source": [
        "data=pd.read_csv(\"drug-classification/drug200.csv\")"
      ]
    },
    {
      "cell_type": "code",
      "execution_count": null,
      "metadata": {
        "colab": {
          "base_uri": "https://localhost:8080/",
          "height": 206
        },
        "id": "XvHhjRvGbOK_",
        "outputId": "201a5eca-7dc8-4255-d40c-c86e858477eb"
      },
      "outputs": [
        {
          "data": {
            "application/vnd.google.colaboratory.intrinsic+json": {
              "summary": "{\n  \"name\": \"data\",\n  \"rows\": 200,\n  \"fields\": [\n    {\n      \"column\": \"Age\",\n      \"properties\": {\n        \"dtype\": \"number\",\n        \"std\": 16,\n        \"min\": 15,\n        \"max\": 74,\n        \"num_unique_values\": 57,\n        \"samples\": [\n          23,\n          49,\n          37\n        ],\n        \"semantic_type\": \"\",\n        \"description\": \"\"\n      }\n    },\n    {\n      \"column\": \"Sex\",\n      \"properties\": {\n        \"dtype\": \"category\",\n        \"num_unique_values\": 2,\n        \"samples\": [\n          \"M\",\n          \"F\"\n        ],\n        \"semantic_type\": \"\",\n        \"description\": \"\"\n      }\n    },\n    {\n      \"column\": \"BP\",\n      \"properties\": {\n        \"dtype\": \"category\",\n        \"num_unique_values\": 3,\n        \"samples\": [\n          \"HIGH\",\n          \"LOW\"\n        ],\n        \"semantic_type\": \"\",\n        \"description\": \"\"\n      }\n    },\n    {\n      \"column\": \"Cholesterol\",\n      \"properties\": {\n        \"dtype\": \"category\",\n        \"num_unique_values\": 2,\n        \"samples\": [\n          \"NORMAL\",\n          \"HIGH\"\n        ],\n        \"semantic_type\": \"\",\n        \"description\": \"\"\n      }\n    },\n    {\n      \"column\": \"Na_to_K\",\n      \"properties\": {\n        \"dtype\": \"number\",\n        \"std\": 7.223955528459516,\n        \"min\": 6.269,\n        \"max\": 38.247,\n        \"num_unique_values\": 198,\n        \"samples\": [\n          27.05,\n          9.281\n        ],\n        \"semantic_type\": \"\",\n        \"description\": \"\"\n      }\n    },\n    {\n      \"column\": \"Drug\",\n      \"properties\": {\n        \"dtype\": \"category\",\n        \"num_unique_values\": 5,\n        \"samples\": [\n          \"drugC\",\n          \"drugB\"\n        ],\n        \"semantic_type\": \"\",\n        \"description\": \"\"\n      }\n    }\n  ]\n}",
              "type": "dataframe",
              "variable_name": "data"
            },
            "text/html": [
              "\n",
              "  <div id=\"df-f1b8208e-c2f5-462a-ac8f-c02dda1b5a82\" class=\"colab-df-container\">\n",
              "    <div>\n",
              "<style scoped>\n",
              "    .dataframe tbody tr th:only-of-type {\n",
              "        vertical-align: middle;\n",
              "    }\n",
              "\n",
              "    .dataframe tbody tr th {\n",
              "        vertical-align: top;\n",
              "    }\n",
              "\n",
              "    .dataframe thead th {\n",
              "        text-align: right;\n",
              "    }\n",
              "</style>\n",
              "<table border=\"1\" class=\"dataframe\">\n",
              "  <thead>\n",
              "    <tr style=\"text-align: right;\">\n",
              "      <th></th>\n",
              "      <th>Age</th>\n",
              "      <th>Sex</th>\n",
              "      <th>BP</th>\n",
              "      <th>Cholesterol</th>\n",
              "      <th>Na_to_K</th>\n",
              "      <th>Drug</th>\n",
              "    </tr>\n",
              "  </thead>\n",
              "  <tbody>\n",
              "    <tr>\n",
              "      <th>0</th>\n",
              "      <td>23</td>\n",
              "      <td>F</td>\n",
              "      <td>HIGH</td>\n",
              "      <td>HIGH</td>\n",
              "      <td>25.355</td>\n",
              "      <td>DrugY</td>\n",
              "    </tr>\n",
              "    <tr>\n",
              "      <th>1</th>\n",
              "      <td>47</td>\n",
              "      <td>M</td>\n",
              "      <td>LOW</td>\n",
              "      <td>HIGH</td>\n",
              "      <td>13.093</td>\n",
              "      <td>drugC</td>\n",
              "    </tr>\n",
              "    <tr>\n",
              "      <th>2</th>\n",
              "      <td>47</td>\n",
              "      <td>M</td>\n",
              "      <td>LOW</td>\n",
              "      <td>HIGH</td>\n",
              "      <td>10.114</td>\n",
              "      <td>drugC</td>\n",
              "    </tr>\n",
              "    <tr>\n",
              "      <th>3</th>\n",
              "      <td>28</td>\n",
              "      <td>F</td>\n",
              "      <td>NORMAL</td>\n",
              "      <td>HIGH</td>\n",
              "      <td>7.798</td>\n",
              "      <td>drugX</td>\n",
              "    </tr>\n",
              "    <tr>\n",
              "      <th>4</th>\n",
              "      <td>61</td>\n",
              "      <td>F</td>\n",
              "      <td>LOW</td>\n",
              "      <td>HIGH</td>\n",
              "      <td>18.043</td>\n",
              "      <td>DrugY</td>\n",
              "    </tr>\n",
              "  </tbody>\n",
              "</table>\n",
              "</div>\n",
              "    <div class=\"colab-df-buttons\">\n",
              "\n",
              "  <div class=\"colab-df-container\">\n",
              "    <button class=\"colab-df-convert\" onclick=\"convertToInteractive('df-f1b8208e-c2f5-462a-ac8f-c02dda1b5a82')\"\n",
              "            title=\"Convert this dataframe to an interactive table.\"\n",
              "            style=\"display:none;\">\n",
              "\n",
              "  <svg xmlns=\"http://www.w3.org/2000/svg\" height=\"24px\" viewBox=\"0 -960 960 960\">\n",
              "    <path d=\"M120-120v-720h720v720H120Zm60-500h600v-160H180v160Zm220 220h160v-160H400v160Zm0 220h160v-160H400v160ZM180-400h160v-160H180v160Zm440 0h160v-160H620v160ZM180-180h160v-160H180v160Zm440 0h160v-160H620v160Z\"/>\n",
              "  </svg>\n",
              "    </button>\n",
              "\n",
              "  <style>\n",
              "    .colab-df-container {\n",
              "      display:flex;\n",
              "      gap: 12px;\n",
              "    }\n",
              "\n",
              "    .colab-df-convert {\n",
              "      background-color: #E8F0FE;\n",
              "      border: none;\n",
              "      border-radius: 50%;\n",
              "      cursor: pointer;\n",
              "      display: none;\n",
              "      fill: #1967D2;\n",
              "      height: 32px;\n",
              "      padding: 0 0 0 0;\n",
              "      width: 32px;\n",
              "    }\n",
              "\n",
              "    .colab-df-convert:hover {\n",
              "      background-color: #E2EBFA;\n",
              "      box-shadow: 0px 1px 2px rgba(60, 64, 67, 0.3), 0px 1px 3px 1px rgba(60, 64, 67, 0.15);\n",
              "      fill: #174EA6;\n",
              "    }\n",
              "\n",
              "    .colab-df-buttons div {\n",
              "      margin-bottom: 4px;\n",
              "    }\n",
              "\n",
              "    [theme=dark] .colab-df-convert {\n",
              "      background-color: #3B4455;\n",
              "      fill: #D2E3FC;\n",
              "    }\n",
              "\n",
              "    [theme=dark] .colab-df-convert:hover {\n",
              "      background-color: #434B5C;\n",
              "      box-shadow: 0px 1px 3px 1px rgba(0, 0, 0, 0.15);\n",
              "      filter: drop-shadow(0px 1px 2px rgba(0, 0, 0, 0.3));\n",
              "      fill: #FFFFFF;\n",
              "    }\n",
              "  </style>\n",
              "\n",
              "    <script>\n",
              "      const buttonEl =\n",
              "        document.querySelector('#df-f1b8208e-c2f5-462a-ac8f-c02dda1b5a82 button.colab-df-convert');\n",
              "      buttonEl.style.display =\n",
              "        google.colab.kernel.accessAllowed ? 'block' : 'none';\n",
              "\n",
              "      async function convertToInteractive(key) {\n",
              "        const element = document.querySelector('#df-f1b8208e-c2f5-462a-ac8f-c02dda1b5a82');\n",
              "        const dataTable =\n",
              "          await google.colab.kernel.invokeFunction('convertToInteractive',\n",
              "                                                    [key], {});\n",
              "        if (!dataTable) return;\n",
              "\n",
              "        const docLinkHtml = 'Like what you see? Visit the ' +\n",
              "          '<a target=\"_blank\" href=https://colab.research.google.com/notebooks/data_table.ipynb>data table notebook</a>'\n",
              "          + ' to learn more about interactive tables.';\n",
              "        element.innerHTML = '';\n",
              "        dataTable['output_type'] = 'display_data';\n",
              "        await google.colab.output.renderOutput(dataTable, element);\n",
              "        const docLink = document.createElement('div');\n",
              "        docLink.innerHTML = docLinkHtml;\n",
              "        element.appendChild(docLink);\n",
              "      }\n",
              "    </script>\n",
              "  </div>\n",
              "\n",
              "\n",
              "<div id=\"df-3a194f94-ca8a-4798-8c96-599e70cfad10\">\n",
              "  <button class=\"colab-df-quickchart\" onclick=\"quickchart('df-3a194f94-ca8a-4798-8c96-599e70cfad10')\"\n",
              "            title=\"Suggest charts\"\n",
              "            style=\"display:none;\">\n",
              "\n",
              "<svg xmlns=\"http://www.w3.org/2000/svg\" height=\"24px\"viewBox=\"0 0 24 24\"\n",
              "     width=\"24px\">\n",
              "    <g>\n",
              "        <path d=\"M19 3H5c-1.1 0-2 .9-2 2v14c0 1.1.9 2 2 2h14c1.1 0 2-.9 2-2V5c0-1.1-.9-2-2-2zM9 17H7v-7h2v7zm4 0h-2V7h2v10zm4 0h-2v-4h2v4z\"/>\n",
              "    </g>\n",
              "</svg>\n",
              "  </button>\n",
              "\n",
              "<style>\n",
              "  .colab-df-quickchart {\n",
              "      --bg-color: #E8F0FE;\n",
              "      --fill-color: #1967D2;\n",
              "      --hover-bg-color: #E2EBFA;\n",
              "      --hover-fill-color: #174EA6;\n",
              "      --disabled-fill-color: #AAA;\n",
              "      --disabled-bg-color: #DDD;\n",
              "  }\n",
              "\n",
              "  [theme=dark] .colab-df-quickchart {\n",
              "      --bg-color: #3B4455;\n",
              "      --fill-color: #D2E3FC;\n",
              "      --hover-bg-color: #434B5C;\n",
              "      --hover-fill-color: #FFFFFF;\n",
              "      --disabled-bg-color: #3B4455;\n",
              "      --disabled-fill-color: #666;\n",
              "  }\n",
              "\n",
              "  .colab-df-quickchart {\n",
              "    background-color: var(--bg-color);\n",
              "    border: none;\n",
              "    border-radius: 50%;\n",
              "    cursor: pointer;\n",
              "    display: none;\n",
              "    fill: var(--fill-color);\n",
              "    height: 32px;\n",
              "    padding: 0;\n",
              "    width: 32px;\n",
              "  }\n",
              "\n",
              "  .colab-df-quickchart:hover {\n",
              "    background-color: var(--hover-bg-color);\n",
              "    box-shadow: 0 1px 2px rgba(60, 64, 67, 0.3), 0 1px 3px 1px rgba(60, 64, 67, 0.15);\n",
              "    fill: var(--button-hover-fill-color);\n",
              "  }\n",
              "\n",
              "  .colab-df-quickchart-complete:disabled,\n",
              "  .colab-df-quickchart-complete:disabled:hover {\n",
              "    background-color: var(--disabled-bg-color);\n",
              "    fill: var(--disabled-fill-color);\n",
              "    box-shadow: none;\n",
              "  }\n",
              "\n",
              "  .colab-df-spinner {\n",
              "    border: 2px solid var(--fill-color);\n",
              "    border-color: transparent;\n",
              "    border-bottom-color: var(--fill-color);\n",
              "    animation:\n",
              "      spin 1s steps(1) infinite;\n",
              "  }\n",
              "\n",
              "  @keyframes spin {\n",
              "    0% {\n",
              "      border-color: transparent;\n",
              "      border-bottom-color: var(--fill-color);\n",
              "      border-left-color: var(--fill-color);\n",
              "    }\n",
              "    20% {\n",
              "      border-color: transparent;\n",
              "      border-left-color: var(--fill-color);\n",
              "      border-top-color: var(--fill-color);\n",
              "    }\n",
              "    30% {\n",
              "      border-color: transparent;\n",
              "      border-left-color: var(--fill-color);\n",
              "      border-top-color: var(--fill-color);\n",
              "      border-right-color: var(--fill-color);\n",
              "    }\n",
              "    40% {\n",
              "      border-color: transparent;\n",
              "      border-right-color: var(--fill-color);\n",
              "      border-top-color: var(--fill-color);\n",
              "    }\n",
              "    60% {\n",
              "      border-color: transparent;\n",
              "      border-right-color: var(--fill-color);\n",
              "    }\n",
              "    80% {\n",
              "      border-color: transparent;\n",
              "      border-right-color: var(--fill-color);\n",
              "      border-bottom-color: var(--fill-color);\n",
              "    }\n",
              "    90% {\n",
              "      border-color: transparent;\n",
              "      border-bottom-color: var(--fill-color);\n",
              "    }\n",
              "  }\n",
              "</style>\n",
              "\n",
              "  <script>\n",
              "    async function quickchart(key) {\n",
              "      const quickchartButtonEl =\n",
              "        document.querySelector('#' + key + ' button');\n",
              "      quickchartButtonEl.disabled = true;  // To prevent multiple clicks.\n",
              "      quickchartButtonEl.classList.add('colab-df-spinner');\n",
              "      try {\n",
              "        const charts = await google.colab.kernel.invokeFunction(\n",
              "            'suggestCharts', [key], {});\n",
              "      } catch (error) {\n",
              "        console.error('Error during call to suggestCharts:', error);\n",
              "      }\n",
              "      quickchartButtonEl.classList.remove('colab-df-spinner');\n",
              "      quickchartButtonEl.classList.add('colab-df-quickchart-complete');\n",
              "    }\n",
              "    (() => {\n",
              "      let quickchartButtonEl =\n",
              "        document.querySelector('#df-3a194f94-ca8a-4798-8c96-599e70cfad10 button');\n",
              "      quickchartButtonEl.style.display =\n",
              "        google.colab.kernel.accessAllowed ? 'block' : 'none';\n",
              "    })();\n",
              "  </script>\n",
              "</div>\n",
              "\n",
              "    </div>\n",
              "  </div>\n"
            ],
            "text/plain": [
              "   Age Sex      BP Cholesterol  Na_to_K   Drug\n",
              "0   23   F    HIGH        HIGH   25.355  DrugY\n",
              "1   47   M     LOW        HIGH   13.093  drugC\n",
              "2   47   M     LOW        HIGH   10.114  drugC\n",
              "3   28   F  NORMAL        HIGH    7.798  drugX\n",
              "4   61   F     LOW        HIGH   18.043  DrugY"
            ]
          },
          "execution_count": 61,
          "metadata": {},
          "output_type": "execute_result"
        }
      ],
      "source": [
        "data.head()"
      ]
    },
    {
      "cell_type": "code",
      "execution_count": null,
      "metadata": {
        "id": "y8Sku8fKcSSM"
      },
      "outputs": [],
      "source": [
        "from sklearn.preprocessing import LabelEncoder\n",
        "le=LabelEncoder()\n",
        "data['Sex']=le.fit_transform(data['Sex'])\n",
        "data['BP']=le.fit_transform(data['BP'])\n",
        "data['Cholesterol']=le.fit_transform(data['Cholesterol'])\n",
        "data['Drug']=le.fit_transform(data['Drug'])"
      ]
    },
    {
      "cell_type": "code",
      "execution_count": null,
      "metadata": {
        "id": "_E1W7MByb4uB"
      },
      "outputs": [],
      "source": [
        "import numpy as np\n",
        "import tensorflow as tf\n",
        "import pandas as pd\n",
        "from tensorflow import keras\n",
        "from tensorflow.keras import layers,models\n",
        "from sklearn.model_selection import train_test_split\n",
        "from sklearn.preprocessing import StandardScaler"
      ]
    },
    {
      "cell_type": "code",
      "execution_count": null,
      "metadata": {
        "colab": {
          "base_uri": "https://localhost:8080/"
        },
        "id": "UUP1feBvcHbX",
        "outputId": "dff61ab7-01f5-483f-8c85-ffa956f0d811"
      },
      "outputs": [
        {
          "data": {
            "text/plain": [
              "Age            0\n",
              "Sex            0\n",
              "BP             0\n",
              "Cholesterol    0\n",
              "Na_to_K        0\n",
              "Drug           0\n",
              "dtype: int64"
            ]
          },
          "execution_count": 71,
          "metadata": {},
          "output_type": "execute_result"
        }
      ],
      "source": [
        "data.isnull().sum()"
      ]
    },
    {
      "cell_type": "code",
      "execution_count": null,
      "metadata": {
        "colab": {
          "base_uri": "https://localhost:8080/"
        },
        "id": "ol3idctiejUY",
        "outputId": "84faab3b-4bc7-4e99-98af-6689465287cf"
      },
      "outputs": [
        {
          "data": {
            "text/plain": [
              "Drug\n",
              "0    91\n",
              "4    54\n",
              "1    23\n",
              "3    16\n",
              "2    16\n",
              "Name: count, dtype: int64"
            ]
          },
          "execution_count": 81,
          "metadata": {},
          "output_type": "execute_result"
        }
      ],
      "source": [
        "data[\"Drug\"].value_counts()"
      ]
    },
    {
      "cell_type": "code",
      "execution_count": null,
      "metadata": {
        "id": "iR2K9_HTcLvn"
      },
      "outputs": [],
      "source": [
        "x=data.drop(columns='Drug',axis=1)\n",
        "y=data['Drug']"
      ]
    },
    {
      "cell_type": "code",
      "execution_count": null,
      "metadata": {
        "id": "vbafuT8RY6nq"
      },
      "outputs": [],
      "source": [
        "obj=StandardScaler()\n",
        "x_=obj.fit_transform(x)"
      ]
    },
    {
      "cell_type": "code",
      "execution_count": null,
      "metadata": {
        "id": "vYZJ6vP3gYGD"
      },
      "outputs": [],
      "source": [
        "from sklearn.preprocessing import OneHotEncoder\n",
        "\n",
        "encoder = OneHotEncoder()\n",
        "y_reshaped = y.values.reshape(-1, 1)\n",
        "\n",
        "y_encoded = encoder.fit_transform(y_reshaped).toarray()\n",
        "\n",
        "# xtrain,xtest,ytrain_encoded,ytest_encoded=train_test_split(x_,y_encoded,test_size=0.1,random_state=2)\n",
        "# xtrain,xtest,ytrain_encoded,ytest_encoded=train_test_split(x_,y_encoded,test_size=0.2,random_state=2)\n",
        "xtrain,xtest,ytrain_encoded,ytest_encoded=train_test_split(x_,y_encoded,test_size=0.3,random_state=2)"
      ]
    },
    {
      "cell_type": "code",
      "execution_count": null,
      "metadata": {
        "id": "Hn5mprDJYYmx"
      },
      "outputs": [],
      "source": [
        "model = models.Sequential()\n",
        "model.add(layers.Dense(100, activation='relu'))\n",
        "model.add(layers.Dense(75, activation='relu'))\n",
        "model.add(layers.Dense(50, activation='relu'))\n",
        "model.add(layers.Dense(25, activation='relu'))\n",
        "model.add(layers.Dense(12, activation='relu'))\n",
        "model.add(layers.Dense(6, activation='relu'))\n",
        "model.add(layers.Dense(5, activation='softmax'))"
      ]
    },
    {
      "cell_type": "code",
      "execution_count": null,
      "metadata": {
        "id": "6AgylNseZYT6"
      },
      "outputs": [],
      "source": [
        "model.compile(optimizer=\"adam\",loss=\"categorical_crossentropy\",metrics=[\"accuracy\"])"
      ]
    },
    {
      "cell_type": "code",
      "execution_count": null,
      "metadata": {
        "colab": {
          "base_uri": "https://localhost:8080/"
        },
        "id": "RlCvFEAKZemH",
        "outputId": "85469d35-031b-42d9-bd70-ad4056796849"
      },
      "outputs": [
        {
          "name": "stdout",
          "output_type": "stream",
          "text": [
            "Epoch 1/50\n",
            "5/5 [==============================] - 2s 62ms/step - loss: 1.5838 - accuracy: 0.4929 - val_loss: 1.5633 - val_accuracy: 0.4833\n",
            "Epoch 2/50\n",
            "5/5 [==============================] - 0s 15ms/step - loss: 1.5436 - accuracy: 0.5429 - val_loss: 1.5297 - val_accuracy: 0.5167\n",
            "Epoch 3/50\n",
            "5/5 [==============================] - 0s 11ms/step - loss: 1.4954 - accuracy: 0.6000 - val_loss: 1.4801 - val_accuracy: 0.5500\n",
            "Epoch 4/50\n",
            "5/5 [==============================] - 0s 15ms/step - loss: 1.4291 - accuracy: 0.6214 - val_loss: 1.4200 - val_accuracy: 0.5667\n",
            "Epoch 5/50\n",
            "5/5 [==============================] - 0s 12ms/step - loss: 1.3445 - accuracy: 0.6286 - val_loss: 1.3506 - val_accuracy: 0.5500\n",
            "Epoch 6/50\n",
            "5/5 [==============================] - 0s 15ms/step - loss: 1.2394 - accuracy: 0.6643 - val_loss: 1.2740 - val_accuracy: 0.5500\n",
            "Epoch 7/50\n",
            "5/5 [==============================] - 0s 14ms/step - loss: 1.1287 - accuracy: 0.6714 - val_loss: 1.1858 - val_accuracy: 0.5833\n",
            "Epoch 8/50\n",
            "5/5 [==============================] - 0s 14ms/step - loss: 1.0084 - accuracy: 0.6643 - val_loss: 1.1040 - val_accuracy: 0.5833\n",
            "Epoch 9/50\n",
            "5/5 [==============================] - 0s 14ms/step - loss: 0.8959 - accuracy: 0.6643 - val_loss: 1.0254 - val_accuracy: 0.6000\n",
            "Epoch 10/50\n",
            "5/5 [==============================] - 0s 14ms/step - loss: 0.7879 - accuracy: 0.6786 - val_loss: 0.9277 - val_accuracy: 0.6167\n",
            "Epoch 11/50\n",
            "5/5 [==============================] - 0s 15ms/step - loss: 0.7085 - accuracy: 0.6786 - val_loss: 0.8609 - val_accuracy: 0.6167\n",
            "Epoch 12/50\n",
            "5/5 [==============================] - 0s 12ms/step - loss: 0.6331 - accuracy: 0.6857 - val_loss: 0.7655 - val_accuracy: 0.6167\n",
            "Epoch 13/50\n",
            "5/5 [==============================] - 0s 17ms/step - loss: 0.5752 - accuracy: 0.7500 - val_loss: 0.7306 - val_accuracy: 0.6500\n",
            "Epoch 14/50\n",
            "5/5 [==============================] - 0s 17ms/step - loss: 0.5275 - accuracy: 0.7714 - val_loss: 0.6568 - val_accuracy: 0.6667\n",
            "Epoch 15/50\n",
            "5/5 [==============================] - 0s 17ms/step - loss: 0.4915 - accuracy: 0.7643 - val_loss: 0.6352 - val_accuracy: 0.6667\n",
            "Epoch 16/50\n",
            "5/5 [==============================] - 0s 15ms/step - loss: 0.4600 - accuracy: 0.8071 - val_loss: 0.6544 - val_accuracy: 0.7000\n",
            "Epoch 17/50\n",
            "5/5 [==============================] - 0s 10ms/step - loss: 0.4370 - accuracy: 0.8286 - val_loss: 0.6056 - val_accuracy: 0.7000\n",
            "Epoch 18/50\n",
            "5/5 [==============================] - 0s 11ms/step - loss: 0.4062 - accuracy: 0.8357 - val_loss: 0.4844 - val_accuracy: 0.7500\n",
            "Epoch 19/50\n",
            "5/5 [==============================] - 0s 11ms/step - loss: 0.3802 - accuracy: 0.8429 - val_loss: 0.5735 - val_accuracy: 0.7000\n",
            "Epoch 20/50\n",
            "5/5 [==============================] - 0s 17ms/step - loss: 0.3538 - accuracy: 0.8643 - val_loss: 0.5873 - val_accuracy: 0.7167\n",
            "Epoch 21/50\n",
            "5/5 [==============================] - 0s 14ms/step - loss: 0.3287 - accuracy: 0.8714 - val_loss: 0.5029 - val_accuracy: 0.7333\n",
            "Epoch 22/50\n",
            "5/5 [==============================] - 0s 11ms/step - loss: 0.3081 - accuracy: 0.8714 - val_loss: 0.4833 - val_accuracy: 0.7667\n",
            "Epoch 23/50\n",
            "5/5 [==============================] - 0s 14ms/step - loss: 0.2893 - accuracy: 0.8714 - val_loss: 0.5192 - val_accuracy: 0.7333\n",
            "Epoch 24/50\n",
            "5/5 [==============================] - 0s 11ms/step - loss: 0.2717 - accuracy: 0.8929 - val_loss: 0.5275 - val_accuracy: 0.7333\n",
            "Epoch 25/50\n",
            "5/5 [==============================] - 0s 14ms/step - loss: 0.2593 - accuracy: 0.8929 - val_loss: 0.5017 - val_accuracy: 0.7333\n",
            "Epoch 26/50\n",
            "5/5 [==============================] - 0s 13ms/step - loss: 0.2475 - accuracy: 0.8929 - val_loss: 0.4665 - val_accuracy: 0.7667\n",
            "Epoch 27/50\n",
            "5/5 [==============================] - 0s 14ms/step - loss: 0.2372 - accuracy: 0.8929 - val_loss: 0.4883 - val_accuracy: 0.7167\n",
            "Epoch 28/50\n",
            "5/5 [==============================] - 0s 17ms/step - loss: 0.2298 - accuracy: 0.8929 - val_loss: 0.4415 - val_accuracy: 0.7500\n",
            "Epoch 29/50\n",
            "5/5 [==============================] - 0s 19ms/step - loss: 0.2207 - accuracy: 0.8929 - val_loss: 0.4018 - val_accuracy: 0.7833\n",
            "Epoch 30/50\n",
            "5/5 [==============================] - 0s 19ms/step - loss: 0.2119 - accuracy: 0.8929 - val_loss: 0.4125 - val_accuracy: 0.7833\n",
            "Epoch 31/50\n",
            "5/5 [==============================] - 0s 11ms/step - loss: 0.2060 - accuracy: 0.8929 - val_loss: 0.4339 - val_accuracy: 0.7667\n",
            "Epoch 32/50\n",
            "5/5 [==============================] - 0s 15ms/step - loss: 0.2002 - accuracy: 0.8929 - val_loss: 0.3870 - val_accuracy: 0.7833\n",
            "Epoch 33/50\n",
            "5/5 [==============================] - 0s 15ms/step - loss: 0.1969 - accuracy: 0.8929 - val_loss: 0.3958 - val_accuracy: 0.7833\n",
            "Epoch 34/50\n",
            "5/5 [==============================] - 0s 16ms/step - loss: 0.1919 - accuracy: 0.8929 - val_loss: 0.4143 - val_accuracy: 0.7833\n",
            "Epoch 35/50\n",
            "5/5 [==============================] - 0s 11ms/step - loss: 0.1874 - accuracy: 0.8929 - val_loss: 0.4021 - val_accuracy: 0.7833\n",
            "Epoch 36/50\n",
            "5/5 [==============================] - 0s 14ms/step - loss: 0.1830 - accuracy: 0.8929 - val_loss: 0.3980 - val_accuracy: 0.7833\n",
            "Epoch 37/50\n",
            "5/5 [==============================] - 0s 15ms/step - loss: 0.1790 - accuracy: 0.8929 - val_loss: 0.3928 - val_accuracy: 0.7833\n",
            "Epoch 38/50\n",
            "5/5 [==============================] - 0s 11ms/step - loss: 0.1761 - accuracy: 0.8929 - val_loss: 0.3939 - val_accuracy: 0.7833\n",
            "Epoch 39/50\n",
            "5/5 [==============================] - 0s 15ms/step - loss: 0.1723 - accuracy: 0.8929 - val_loss: 0.4121 - val_accuracy: 0.7667\n",
            "Epoch 40/50\n",
            "5/5 [==============================] - 0s 14ms/step - loss: 0.1698 - accuracy: 0.8929 - val_loss: 0.4115 - val_accuracy: 0.7667\n",
            "Epoch 41/50\n",
            "5/5 [==============================] - 0s 11ms/step - loss: 0.1668 - accuracy: 0.8929 - val_loss: 0.4146 - val_accuracy: 0.7667\n",
            "Epoch 42/50\n",
            "5/5 [==============================] - 0s 14ms/step - loss: 0.1644 - accuracy: 0.8929 - val_loss: 0.4161 - val_accuracy: 0.7667\n",
            "Epoch 43/50\n",
            "5/5 [==============================] - 0s 14ms/step - loss: 0.1614 - accuracy: 0.8929 - val_loss: 0.3688 - val_accuracy: 0.8000\n",
            "Epoch 44/50\n",
            "5/5 [==============================] - 0s 18ms/step - loss: 0.1590 - accuracy: 0.8929 - val_loss: 0.3726 - val_accuracy: 0.8000\n",
            "Epoch 45/50\n",
            "5/5 [==============================] - 0s 14ms/step - loss: 0.1560 - accuracy: 0.8929 - val_loss: 0.3743 - val_accuracy: 0.8000\n",
            "Epoch 46/50\n",
            "5/5 [==============================] - 0s 15ms/step - loss: 0.1536 - accuracy: 0.8929 - val_loss: 0.3704 - val_accuracy: 0.8000\n",
            "Epoch 47/50\n",
            "5/5 [==============================] - 0s 11ms/step - loss: 0.1509 - accuracy: 0.8929 - val_loss: 0.3762 - val_accuracy: 0.8000\n",
            "Epoch 48/50\n",
            "5/5 [==============================] - 0s 15ms/step - loss: 0.1483 - accuracy: 0.8929 - val_loss: 0.3852 - val_accuracy: 0.7833\n",
            "Epoch 49/50\n",
            "5/5 [==============================] - 0s 15ms/step - loss: 0.1461 - accuracy: 0.8929 - val_loss: 0.3749 - val_accuracy: 0.7833\n",
            "Epoch 50/50\n",
            "5/5 [==============================] - 0s 14ms/step - loss: 0.1436 - accuracy: 0.8929 - val_loss: 0.3762 - val_accuracy: 0.7833\n"
          ]
        }
      ],
      "source": [
        "history = model.fit(xtrain, ytrain_encoded, epochs=50, validation_data=(xtest, ytest_encoded))"
      ]
    },
    {
      "cell_type": "code",
      "execution_count": null,
      "metadata": {
        "colab": {
          "base_uri": "https://localhost:8080/"
        },
        "id": "efYpl11NaNYb",
        "outputId": "b35fa67b-bd1a-4e05-9ea4-8b5b05e59e6d"
      },
      "outputs": [
        {
          "name": "stdout",
          "output_type": "stream",
          "text": [
            "2/2 [==============================] - 0s 7ms/step - loss: 0.3762 - accuracy: 0.7833\n"
          ]
        }
      ],
      "source": [
        "result = model.evaluate(xtest,ytest_encoded)"
      ]
    },
    {
      "cell_type": "code",
      "execution_count": null,
      "metadata": {
        "id": "Ldywqfqgawg4"
      },
      "outputs": [],
      "source": [
        "import matplotlib.pyplot as plt\n"
      ]
    },
    {
      "cell_type": "code",
      "execution_count": null,
      "metadata": {
        "colab": {
          "base_uri": "https://localhost:8080/",
          "height": 449
        },
        "id": "4RN1tTdva9S2",
        "outputId": "d65d605a-4815-49b4-ef69-58151492a747"
      },
      "outputs": [
        {
          "data": {
            "image/png": "[encoded data removed]",
            "text/plain": [
              "<Figure size 640x480 with 1 Axes>"
            ]
          },
          "metadata": {},
          "output_type": "display_data"
        }
      ],
      "source": [
        "plt.plot(history.history['accuracy'])\n",
        "plt.plot(history.history['val_accuracy'])\n",
        "plt.xlabel('Epochs')\n",
        "plt.ylabel('Accuracy')\n",
        "plt.legend(['Training', 'Validation'])\n",
        "plt.show()\n"
      ]
    }
  ],
  "metadata": {
    "colab": {
      "provenance": []
    },
    "kernelspec": {
      "display_name": "Python 3",
      "name": "python3"
    },
    "language_info": {
      "name": "python"
    }
  },
  "nbformat": 4,
  "nbformat_minor": 0
}
